{
 "cells": [
  {
   "cell_type": "markdown",
   "metadata": {},
   "source": [
    "## Model Comparison - Limited Feature Set\n",
    "\n",
    "Author: Daniel Hui\n",
    "\n",
    "License: MIT\n",
    "\n",
    "This notebook exaluates a few different modelling options for the data, for comparison"
   ]
  },
  {
   "cell_type": "code",
   "execution_count": 1,
   "metadata": {},
   "outputs": [],
   "source": [
    "import pandas as pd\n",
    "import numpy as np\n",
    "\n",
    "# visualization imports\n",
    "import matplotlib.pyplot as plt\n",
    "import seaborn as sns\n",
    "plt.style.use('fivethirtyeight')\n",
    "\n",
    "import warnings\n",
    "warnings.simplefilter(action='ignore', category=FutureWarning)\n",
    "\n",
    "pd.set_option('display.max_columns', 500)\n",
    "pd.set_option('display.float_format', lambda x: '%.4f' % x)"
   ]
  },
  {
   "cell_type": "markdown",
   "metadata": {},
   "source": [
    "### Load Dataset"
   ]
  },
  {
   "cell_type": "code",
   "execution_count": 3,
   "metadata": {},
   "outputs": [],
   "source": [
    "checkout_target_df = pd.read_csv('01_Data/Features_Target.csv',index_col=0)"
   ]
  },
  {
   "cell_type": "code",
   "execution_count": 4,
   "metadata": {},
   "outputs": [
    {
     "data": {
      "text/html": [
       "<div>\n",
       "<style scoped>\n",
       "    .dataframe tbody tr th:only-of-type {\n",
       "        vertical-align: middle;\n",
       "    }\n",
       "\n",
       "    .dataframe tbody tr th {\n",
       "        vertical-align: top;\n",
       "    }\n",
       "\n",
       "    .dataframe thead th {\n",
       "        text-align: right;\n",
       "    }\n",
       "</style>\n",
       "<table border=\"1\" class=\"dataframe\">\n",
       "  <thead>\n",
       "    <tr style=\"text-align: right;\">\n",
       "      <th></th>\n",
       "      <th>BibNum</th>\n",
       "      <th>Checkout</th>\n",
       "      <th>Title</th>\n",
       "      <th>ISBN</th>\n",
       "      <th>Year</th>\n",
       "      <th>Fiction</th>\n",
       "      <th>Language</th>\n",
       "      <th>Nonfiction</th>\n",
       "      <th>Biography</th>\n",
       "      <th>Large Print</th>\n",
       "      <th>Picture</th>\n",
       "      <th>Children</th>\n",
       "      <th>Teen</th>\n",
       "      <th>Mystery</th>\n",
       "      <th>AfAm</th>\n",
       "      <th>Comic</th>\n",
       "      <th>page</th>\n",
       "      <th>dim</th>\n",
       "      <th>avg_rating</th>\n",
       "      <th>tot_ratings</th>\n",
       "      <th>tot_reviews</th>\n",
       "      <th>cntry_code 0</th>\n",
       "      <th>cntry_code 1</th>\n",
       "      <th>cntry_code 2</th>\n",
       "      <th>cntry_code 3</th>\n",
       "      <th>cntry_code 4</th>\n",
       "      <th>pub_code 2</th>\n",
       "      <th>pub_code 3</th>\n",
       "      <th>pub_code 4</th>\n",
       "      <th>pub_code 5</th>\n",
       "      <th>pub_code 6</th>\n",
       "      <th>pub_code 7</th>\n",
       "    </tr>\n",
       "  </thead>\n",
       "  <tbody>\n",
       "    <tr>\n",
       "      <th>0</th>\n",
       "      <td>3161651</td>\n",
       "      <td>0</td>\n",
       "      <td>1</td>\n",
       "      <td>1</td>\n",
       "      <td>2016</td>\n",
       "      <td>0</td>\n",
       "      <td>0</td>\n",
       "      <td>1</td>\n",
       "      <td>0</td>\n",
       "      <td>0</td>\n",
       "      <td>0</td>\n",
       "      <td>0</td>\n",
       "      <td>0</td>\n",
       "      <td>0</td>\n",
       "      <td>0</td>\n",
       "      <td>0</td>\n",
       "      <td>185</td>\n",
       "      <td>21</td>\n",
       "      <td>3.7000</td>\n",
       "      <td>4</td>\n",
       "      <td>1</td>\n",
       "      <td>0</td>\n",
       "      <td>1</td>\n",
       "      <td>0</td>\n",
       "      <td>0</td>\n",
       "      <td>0</td>\n",
       "      <td>0</td>\n",
       "      <td>0</td>\n",
       "      <td>0</td>\n",
       "      <td>1</td>\n",
       "      <td>0</td>\n",
       "      <td>0</td>\n",
       "    </tr>\n",
       "    <tr>\n",
       "      <th>1</th>\n",
       "      <td>3203068</td>\n",
       "      <td>0</td>\n",
       "      <td>1</td>\n",
       "      <td>1</td>\n",
       "      <td>2012</td>\n",
       "      <td>1</td>\n",
       "      <td>0</td>\n",
       "      <td>0</td>\n",
       "      <td>0</td>\n",
       "      <td>0</td>\n",
       "      <td>0</td>\n",
       "      <td>0</td>\n",
       "      <td>0</td>\n",
       "      <td>0</td>\n",
       "      <td>0</td>\n",
       "      <td>0</td>\n",
       "      <td>269</td>\n",
       "      <td>22</td>\n",
       "      <td>0.0000</td>\n",
       "      <td>0</td>\n",
       "      <td>0</td>\n",
       "      <td>1</td>\n",
       "      <td>0</td>\n",
       "      <td>0</td>\n",
       "      <td>0</td>\n",
       "      <td>0</td>\n",
       "      <td>0</td>\n",
       "      <td>0</td>\n",
       "      <td>0</td>\n",
       "      <td>0</td>\n",
       "      <td>0</td>\n",
       "      <td>1</td>\n",
       "    </tr>\n",
       "    <tr>\n",
       "      <th>2</th>\n",
       "      <td>2851182</td>\n",
       "      <td>0</td>\n",
       "      <td>1</td>\n",
       "      <td>1</td>\n",
       "      <td>2013</td>\n",
       "      <td>0</td>\n",
       "      <td>0</td>\n",
       "      <td>1</td>\n",
       "      <td>0</td>\n",
       "      <td>0</td>\n",
       "      <td>0</td>\n",
       "      <td>1</td>\n",
       "      <td>0</td>\n",
       "      <td>0</td>\n",
       "      <td>0</td>\n",
       "      <td>0</td>\n",
       "      <td>24</td>\n",
       "      <td>26</td>\n",
       "      <td>0.0000</td>\n",
       "      <td>0</td>\n",
       "      <td>0</td>\n",
       "      <td>0</td>\n",
       "      <td>1</td>\n",
       "      <td>0</td>\n",
       "      <td>0</td>\n",
       "      <td>0</td>\n",
       "      <td>0</td>\n",
       "      <td>0</td>\n",
       "      <td>0</td>\n",
       "      <td>1</td>\n",
       "      <td>0</td>\n",
       "      <td>0</td>\n",
       "    </tr>\n",
       "  </tbody>\n",
       "</table>\n",
       "</div>"
      ],
      "text/plain": [
       "    BibNum  Checkout  Title  ISBN  Year  Fiction  Language  Nonfiction  \\\n",
       "0  3161651         0      1     1  2016        0         0           1   \n",
       "1  3203068         0      1     1  2012        1         0           0   \n",
       "2  2851182         0      1     1  2013        0         0           1   \n",
       "\n",
       "   Biography  Large Print  Picture  Children  Teen  Mystery  AfAm  Comic  \\\n",
       "0          0            0        0         0     0        0     0      0   \n",
       "1          0            0        0         0     0        0     0      0   \n",
       "2          0            0        0         1     0        0     0      0   \n",
       "\n",
       "   page  dim  avg_rating  tot_ratings  tot_reviews  cntry_code 0  \\\n",
       "0   185   21      3.7000            4            1             0   \n",
       "1   269   22      0.0000            0            0             1   \n",
       "2    24   26      0.0000            0            0             0   \n",
       "\n",
       "   cntry_code 1  cntry_code 2  cntry_code 3  cntry_code 4  pub_code 2  \\\n",
       "0             1             0             0             0           0   \n",
       "1             0             0             0             0           0   \n",
       "2             1             0             0             0           0   \n",
       "\n",
       "   pub_code 3  pub_code 4  pub_code 5  pub_code 6  pub_code 7  \n",
       "0           0           0           1           0           0  \n",
       "1           0           0           0           0           1  \n",
       "2           0           0           1           0           0  "
      ]
     },
     "execution_count": 4,
     "metadata": {},
     "output_type": "execute_result"
    }
   ],
   "source": [
    "checkout_target_df.head(3)"
   ]
  },
  {
   "cell_type": "code",
   "execution_count": 5,
   "metadata": {},
   "outputs": [
    {
     "data": {
      "text/html": [
       "<div>\n",
       "<style scoped>\n",
       "    .dataframe tbody tr th:only-of-type {\n",
       "        vertical-align: middle;\n",
       "    }\n",
       "\n",
       "    .dataframe tbody tr th {\n",
       "        vertical-align: top;\n",
       "    }\n",
       "\n",
       "    .dataframe thead th {\n",
       "        text-align: right;\n",
       "    }\n",
       "</style>\n",
       "<table border=\"1\" class=\"dataframe\">\n",
       "  <thead>\n",
       "    <tr style=\"text-align: right;\">\n",
       "      <th></th>\n",
       "      <th>BibNum</th>\n",
       "      <th>Checkout</th>\n",
       "      <th>Title</th>\n",
       "      <th>ISBN</th>\n",
       "      <th>Year</th>\n",
       "      <th>Fiction</th>\n",
       "      <th>Language</th>\n",
       "      <th>Nonfiction</th>\n",
       "      <th>Biography</th>\n",
       "      <th>Large Print</th>\n",
       "      <th>Picture</th>\n",
       "      <th>Children</th>\n",
       "      <th>Teen</th>\n",
       "      <th>Mystery</th>\n",
       "      <th>AfAm</th>\n",
       "      <th>Comic</th>\n",
       "      <th>page</th>\n",
       "      <th>dim</th>\n",
       "      <th>avg_rating</th>\n",
       "      <th>tot_ratings</th>\n",
       "      <th>tot_reviews</th>\n",
       "      <th>cntry_code 0</th>\n",
       "      <th>cntry_code 1</th>\n",
       "      <th>cntry_code 2</th>\n",
       "      <th>cntry_code 3</th>\n",
       "      <th>cntry_code 4</th>\n",
       "      <th>pub_code 2</th>\n",
       "      <th>pub_code 3</th>\n",
       "      <th>pub_code 4</th>\n",
       "      <th>pub_code 5</th>\n",
       "      <th>pub_code 6</th>\n",
       "      <th>pub_code 7</th>\n",
       "    </tr>\n",
       "  </thead>\n",
       "  <tbody>\n",
       "    <tr>\n",
       "      <th>count</th>\n",
       "      <td>27211.0000</td>\n",
       "      <td>27211.0000</td>\n",
       "      <td>27211.0000</td>\n",
       "      <td>27211.0000</td>\n",
       "      <td>27211.0000</td>\n",
       "      <td>27211.0000</td>\n",
       "      <td>27211.0000</td>\n",
       "      <td>27211.0000</td>\n",
       "      <td>27211.0000</td>\n",
       "      <td>27211.0000</td>\n",
       "      <td>27211.0000</td>\n",
       "      <td>27211.0000</td>\n",
       "      <td>27211.0000</td>\n",
       "      <td>27211.0000</td>\n",
       "      <td>27211.0000</td>\n",
       "      <td>27211.0000</td>\n",
       "      <td>27211.0000</td>\n",
       "      <td>27211.0000</td>\n",
       "      <td>27211.0000</td>\n",
       "      <td>27211.0000</td>\n",
       "      <td>27211.0000</td>\n",
       "      <td>27211.0000</td>\n",
       "      <td>27211.0000</td>\n",
       "      <td>27211.0000</td>\n",
       "      <td>27211.0000</td>\n",
       "      <td>27211.0000</td>\n",
       "      <td>27211.0000</td>\n",
       "      <td>27211.0000</td>\n",
       "      <td>27211.0000</td>\n",
       "      <td>27211.0000</td>\n",
       "      <td>27211.0000</td>\n",
       "      <td>27211.0000</td>\n",
       "    </tr>\n",
       "    <tr>\n",
       "      <th>mean</th>\n",
       "      <td>2249489.5370</td>\n",
       "      <td>0.4882</td>\n",
       "      <td>1.0000</td>\n",
       "      <td>0.8745</td>\n",
       "      <td>2001.7685</td>\n",
       "      <td>0.2818</td>\n",
       "      <td>0.0785</td>\n",
       "      <td>0.6339</td>\n",
       "      <td>0.0366</td>\n",
       "      <td>0.0208</td>\n",
       "      <td>0.0398</td>\n",
       "      <td>0.1598</td>\n",
       "      <td>0.0489</td>\n",
       "      <td>0.0244</td>\n",
       "      <td>0.0188</td>\n",
       "      <td>0.0334</td>\n",
       "      <td>253.6456</td>\n",
       "      <td>23.5568</td>\n",
       "      <td>3.4695</td>\n",
       "      <td>11.9267</td>\n",
       "      <td>1.0391</td>\n",
       "      <td>0.4745</td>\n",
       "      <td>0.2916</td>\n",
       "      <td>0.0024</td>\n",
       "      <td>0.0045</td>\n",
       "      <td>0.0060</td>\n",
       "      <td>0.0800</td>\n",
       "      <td>0.2241</td>\n",
       "      <td>0.2409</td>\n",
       "      <td>0.1810</td>\n",
       "      <td>0.0415</td>\n",
       "      <td>0.0119</td>\n",
       "    </tr>\n",
       "    <tr>\n",
       "      <th>std</th>\n",
       "      <td>948991.6013</td>\n",
       "      <td>0.4999</td>\n",
       "      <td>0.0000</td>\n",
       "      <td>0.3313</td>\n",
       "      <td>16.7969</td>\n",
       "      <td>0.4499</td>\n",
       "      <td>0.2689</td>\n",
       "      <td>0.4817</td>\n",
       "      <td>0.1878</td>\n",
       "      <td>0.1428</td>\n",
       "      <td>0.1954</td>\n",
       "      <td>0.3665</td>\n",
       "      <td>0.2157</td>\n",
       "      <td>0.1543</td>\n",
       "      <td>0.1357</td>\n",
       "      <td>0.1797</td>\n",
       "      <td>143.0197</td>\n",
       "      <td>3.4577</td>\n",
       "      <td>3.8609</td>\n",
       "      <td>71.7034</td>\n",
       "      <td>6.8293</td>\n",
       "      <td>0.4994</td>\n",
       "      <td>0.4545</td>\n",
       "      <td>0.0484</td>\n",
       "      <td>0.0671</td>\n",
       "      <td>0.0772</td>\n",
       "      <td>0.2714</td>\n",
       "      <td>0.4170</td>\n",
       "      <td>0.4276</td>\n",
       "      <td>0.3850</td>\n",
       "      <td>0.1994</td>\n",
       "      <td>0.1083</td>\n",
       "    </tr>\n",
       "    <tr>\n",
       "      <th>min</th>\n",
       "      <td>75.0000</td>\n",
       "      <td>0.0000</td>\n",
       "      <td>1.0000</td>\n",
       "      <td>0.0000</td>\n",
       "      <td>1877.0000</td>\n",
       "      <td>0.0000</td>\n",
       "      <td>0.0000</td>\n",
       "      <td>0.0000</td>\n",
       "      <td>0.0000</td>\n",
       "      <td>0.0000</td>\n",
       "      <td>0.0000</td>\n",
       "      <td>0.0000</td>\n",
       "      <td>0.0000</td>\n",
       "      <td>0.0000</td>\n",
       "      <td>0.0000</td>\n",
       "      <td>0.0000</td>\n",
       "      <td>1.0000</td>\n",
       "      <td>2.0000</td>\n",
       "      <td>0.0000</td>\n",
       "      <td>0.0000</td>\n",
       "      <td>0.0000</td>\n",
       "      <td>0.0000</td>\n",
       "      <td>0.0000</td>\n",
       "      <td>0.0000</td>\n",
       "      <td>0.0000</td>\n",
       "      <td>0.0000</td>\n",
       "      <td>0.0000</td>\n",
       "      <td>0.0000</td>\n",
       "      <td>0.0000</td>\n",
       "      <td>0.0000</td>\n",
       "      <td>0.0000</td>\n",
       "      <td>0.0000</td>\n",
       "    </tr>\n",
       "    <tr>\n",
       "      <th>25%</th>\n",
       "      <td>1877301.0000</td>\n",
       "      <td>0.0000</td>\n",
       "      <td>1.0000</td>\n",
       "      <td>1.0000</td>\n",
       "      <td>1997.0000</td>\n",
       "      <td>0.0000</td>\n",
       "      <td>0.0000</td>\n",
       "      <td>0.0000</td>\n",
       "      <td>0.0000</td>\n",
       "      <td>0.0000</td>\n",
       "      <td>0.0000</td>\n",
       "      <td>0.0000</td>\n",
       "      <td>0.0000</td>\n",
       "      <td>0.0000</td>\n",
       "      <td>0.0000</td>\n",
       "      <td>0.0000</td>\n",
       "      <td>176.0000</td>\n",
       "      <td>22.0000</td>\n",
       "      <td>0.0000</td>\n",
       "      <td>0.0000</td>\n",
       "      <td>0.0000</td>\n",
       "      <td>0.0000</td>\n",
       "      <td>0.0000</td>\n",
       "      <td>0.0000</td>\n",
       "      <td>0.0000</td>\n",
       "      <td>0.0000</td>\n",
       "      <td>0.0000</td>\n",
       "      <td>0.0000</td>\n",
       "      <td>0.0000</td>\n",
       "      <td>0.0000</td>\n",
       "      <td>0.0000</td>\n",
       "      <td>0.0000</td>\n",
       "    </tr>\n",
       "    <tr>\n",
       "      <th>50%</th>\n",
       "      <td>2566955.0000</td>\n",
       "      <td>0.0000</td>\n",
       "      <td>1.0000</td>\n",
       "      <td>1.0000</td>\n",
       "      <td>2008.0000</td>\n",
       "      <td>0.0000</td>\n",
       "      <td>0.0000</td>\n",
       "      <td>1.0000</td>\n",
       "      <td>0.0000</td>\n",
       "      <td>0.0000</td>\n",
       "      <td>0.0000</td>\n",
       "      <td>0.0000</td>\n",
       "      <td>0.0000</td>\n",
       "      <td>0.0000</td>\n",
       "      <td>0.0000</td>\n",
       "      <td>0.0000</td>\n",
       "      <td>253.0000</td>\n",
       "      <td>23.0000</td>\n",
       "      <td>0.0000</td>\n",
       "      <td>0.0000</td>\n",
       "      <td>0.0000</td>\n",
       "      <td>0.0000</td>\n",
       "      <td>0.0000</td>\n",
       "      <td>0.0000</td>\n",
       "      <td>0.0000</td>\n",
       "      <td>0.0000</td>\n",
       "      <td>0.0000</td>\n",
       "      <td>0.0000</td>\n",
       "      <td>0.0000</td>\n",
       "      <td>0.0000</td>\n",
       "      <td>0.0000</td>\n",
       "      <td>0.0000</td>\n",
       "    </tr>\n",
       "    <tr>\n",
       "      <th>75%</th>\n",
       "      <td>2969785.5000</td>\n",
       "      <td>1.0000</td>\n",
       "      <td>1.0000</td>\n",
       "      <td>1.0000</td>\n",
       "      <td>2013.0000</td>\n",
       "      <td>1.0000</td>\n",
       "      <td>0.0000</td>\n",
       "      <td>1.0000</td>\n",
       "      <td>0.0000</td>\n",
       "      <td>0.0000</td>\n",
       "      <td>0.0000</td>\n",
       "      <td>0.0000</td>\n",
       "      <td>0.0000</td>\n",
       "      <td>0.0000</td>\n",
       "      <td>0.0000</td>\n",
       "      <td>0.0000</td>\n",
       "      <td>306.0000</td>\n",
       "      <td>24.0000</td>\n",
       "      <td>7.5000</td>\n",
       "      <td>5.0000</td>\n",
       "      <td>0.0000</td>\n",
       "      <td>1.0000</td>\n",
       "      <td>1.0000</td>\n",
       "      <td>0.0000</td>\n",
       "      <td>0.0000</td>\n",
       "      <td>0.0000</td>\n",
       "      <td>0.0000</td>\n",
       "      <td>0.0000</td>\n",
       "      <td>0.0000</td>\n",
       "      <td>0.0000</td>\n",
       "      <td>0.0000</td>\n",
       "      <td>0.0000</td>\n",
       "    </tr>\n",
       "    <tr>\n",
       "      <th>max</th>\n",
       "      <td>3342152.0000</td>\n",
       "      <td>1.0000</td>\n",
       "      <td>1.0000</td>\n",
       "      <td>1.0000</td>\n",
       "      <td>2018.0000</td>\n",
       "      <td>1.0000</td>\n",
       "      <td>1.0000</td>\n",
       "      <td>1.0000</td>\n",
       "      <td>1.0000</td>\n",
       "      <td>1.0000</td>\n",
       "      <td>1.0000</td>\n",
       "      <td>1.0000</td>\n",
       "      <td>1.0000</td>\n",
       "      <td>1.0000</td>\n",
       "      <td>1.0000</td>\n",
       "      <td>1.0000</td>\n",
       "      <td>3078.0000</td>\n",
       "      <td>283.0000</td>\n",
       "      <td>10.0000</td>\n",
       "      <td>3552.0000</td>\n",
       "      <td>389.0000</td>\n",
       "      <td>1.0000</td>\n",
       "      <td>1.0000</td>\n",
       "      <td>1.0000</td>\n",
       "      <td>1.0000</td>\n",
       "      <td>1.0000</td>\n",
       "      <td>1.0000</td>\n",
       "      <td>1.0000</td>\n",
       "      <td>1.0000</td>\n",
       "      <td>1.0000</td>\n",
       "      <td>1.0000</td>\n",
       "      <td>1.0000</td>\n",
       "    </tr>\n",
       "  </tbody>\n",
       "</table>\n",
       "</div>"
      ],
      "text/plain": [
       "            BibNum   Checkout      Title       ISBN       Year    Fiction  \\\n",
       "count   27211.0000 27211.0000 27211.0000 27211.0000 27211.0000 27211.0000   \n",
       "mean  2249489.5370     0.4882     1.0000     0.8745  2001.7685     0.2818   \n",
       "std    948991.6013     0.4999     0.0000     0.3313    16.7969     0.4499   \n",
       "min        75.0000     0.0000     1.0000     0.0000  1877.0000     0.0000   \n",
       "25%   1877301.0000     0.0000     1.0000     1.0000  1997.0000     0.0000   \n",
       "50%   2566955.0000     0.0000     1.0000     1.0000  2008.0000     0.0000   \n",
       "75%   2969785.5000     1.0000     1.0000     1.0000  2013.0000     1.0000   \n",
       "max   3342152.0000     1.0000     1.0000     1.0000  2018.0000     1.0000   \n",
       "\n",
       "        Language  Nonfiction  Biography  Large Print    Picture   Children  \\\n",
       "count 27211.0000  27211.0000 27211.0000   27211.0000 27211.0000 27211.0000   \n",
       "mean      0.0785      0.6339     0.0366       0.0208     0.0398     0.1598   \n",
       "std       0.2689      0.4817     0.1878       0.1428     0.1954     0.3665   \n",
       "min       0.0000      0.0000     0.0000       0.0000     0.0000     0.0000   \n",
       "25%       0.0000      0.0000     0.0000       0.0000     0.0000     0.0000   \n",
       "50%       0.0000      1.0000     0.0000       0.0000     0.0000     0.0000   \n",
       "75%       0.0000      1.0000     0.0000       0.0000     0.0000     0.0000   \n",
       "max       1.0000      1.0000     1.0000       1.0000     1.0000     1.0000   \n",
       "\n",
       "            Teen    Mystery       AfAm      Comic       page        dim  \\\n",
       "count 27211.0000 27211.0000 27211.0000 27211.0000 27211.0000 27211.0000   \n",
       "mean      0.0489     0.0244     0.0188     0.0334   253.6456    23.5568   \n",
       "std       0.2157     0.1543     0.1357     0.1797   143.0197     3.4577   \n",
       "min       0.0000     0.0000     0.0000     0.0000     1.0000     2.0000   \n",
       "25%       0.0000     0.0000     0.0000     0.0000   176.0000    22.0000   \n",
       "50%       0.0000     0.0000     0.0000     0.0000   253.0000    23.0000   \n",
       "75%       0.0000     0.0000     0.0000     0.0000   306.0000    24.0000   \n",
       "max       1.0000     1.0000     1.0000     1.0000  3078.0000   283.0000   \n",
       "\n",
       "       avg_rating  tot_ratings  tot_reviews  cntry_code 0  cntry_code 1  \\\n",
       "count  27211.0000   27211.0000   27211.0000    27211.0000    27211.0000   \n",
       "mean       3.4695      11.9267       1.0391        0.4745        0.2916   \n",
       "std        3.8609      71.7034       6.8293        0.4994        0.4545   \n",
       "min        0.0000       0.0000       0.0000        0.0000        0.0000   \n",
       "25%        0.0000       0.0000       0.0000        0.0000        0.0000   \n",
       "50%        0.0000       0.0000       0.0000        0.0000        0.0000   \n",
       "75%        7.5000       5.0000       0.0000        1.0000        1.0000   \n",
       "max       10.0000    3552.0000     389.0000        1.0000        1.0000   \n",
       "\n",
       "       cntry_code 2  cntry_code 3  cntry_code 4  pub_code 2  pub_code 3  \\\n",
       "count    27211.0000    27211.0000    27211.0000  27211.0000  27211.0000   \n",
       "mean         0.0024        0.0045        0.0060      0.0800      0.2241   \n",
       "std          0.0484        0.0671        0.0772      0.2714      0.4170   \n",
       "min          0.0000        0.0000        0.0000      0.0000      0.0000   \n",
       "25%          0.0000        0.0000        0.0000      0.0000      0.0000   \n",
       "50%          0.0000        0.0000        0.0000      0.0000      0.0000   \n",
       "75%          0.0000        0.0000        0.0000      0.0000      0.0000   \n",
       "max          1.0000        1.0000        1.0000      1.0000      1.0000   \n",
       "\n",
       "       pub_code 4  pub_code 5  pub_code 6  pub_code 7  \n",
       "count  27211.0000  27211.0000  27211.0000  27211.0000  \n",
       "mean       0.2409      0.1810      0.0415      0.0119  \n",
       "std        0.4276      0.3850      0.1994      0.1083  \n",
       "min        0.0000      0.0000      0.0000      0.0000  \n",
       "25%        0.0000      0.0000      0.0000      0.0000  \n",
       "50%        0.0000      0.0000      0.0000      0.0000  \n",
       "75%        0.0000      0.0000      0.0000      0.0000  \n",
       "max        1.0000      1.0000      1.0000      1.0000  "
      ]
     },
     "execution_count": 5,
     "metadata": {},
     "output_type": "execute_result"
    }
   ],
   "source": [
    "checkout_target_df.describe()"
   ]
  },
  {
   "cell_type": "code",
   "execution_count": 6,
   "metadata": {},
   "outputs": [
    {
     "name": "stdout",
     "output_type": "stream",
     "text": [
      "<class 'pandas.core.frame.DataFrame'>\n",
      "Int64Index: 27211 entries, 0 to 27210\n",
      "Data columns (total 32 columns):\n",
      "BibNum          27211 non-null int64\n",
      "Checkout        27211 non-null int64\n",
      "Title           27211 non-null int64\n",
      "ISBN            27211 non-null int64\n",
      "Year            27211 non-null int64\n",
      "Fiction         27211 non-null int64\n",
      "Language        27211 non-null int64\n",
      "Nonfiction      27211 non-null int64\n",
      "Biography       27211 non-null int64\n",
      "Large Print     27211 non-null int64\n",
      "Picture         27211 non-null int64\n",
      "Children        27211 non-null int64\n",
      "Teen            27211 non-null int64\n",
      "Mystery         27211 non-null int64\n",
      "AfAm            27211 non-null int64\n",
      "Comic           27211 non-null int64\n",
      "page            27211 non-null int64\n",
      "dim             27211 non-null int64\n",
      "avg_rating      27211 non-null float64\n",
      "tot_ratings     27211 non-null int64\n",
      "tot_reviews     27211 non-null int64\n",
      "cntry_code 0    27211 non-null int64\n",
      "cntry_code 1    27211 non-null int64\n",
      "cntry_code 2    27211 non-null int64\n",
      "cntry_code 3    27211 non-null int64\n",
      "cntry_code 4    27211 non-null int64\n",
      "pub_code 2      27211 non-null int64\n",
      "pub_code 3      27211 non-null int64\n",
      "pub_code 4      27211 non-null int64\n",
      "pub_code 5      27211 non-null int64\n",
      "pub_code 6      27211 non-null int64\n",
      "pub_code 7      27211 non-null int64\n",
      "dtypes: float64(1), int64(31)\n",
      "memory usage: 6.9 MB\n"
     ]
    }
   ],
   "source": [
    "checkout_target_df.info()"
   ]
  },
  {
   "cell_type": "code",
   "execution_count": 7,
   "metadata": {},
   "outputs": [
    {
     "data": {
      "text/plain": [
       "27211"
      ]
     },
     "execution_count": 7,
     "metadata": {},
     "output_type": "execute_result"
    }
   ],
   "source": [
    "len(checkout_target_df)"
   ]
  },
  {
   "cell_type": "markdown",
   "metadata": {},
   "source": [
    "### Train / Test / Split"
   ]
  },
  {
   "cell_type": "code",
   "execution_count": 8,
   "metadata": {},
   "outputs": [],
   "source": [
    "from sklearn.model_selection import train_test_split\n",
    "from sklearn.model_selection import cross_val_score\n",
    "from sklearn.neighbors import KNeighborsClassifier\n",
    "from sklearn.metrics import confusion_matrix\n",
    "from sklearn import metrics"
   ]
  },
  {
   "cell_type": "code",
   "execution_count": 9,
   "metadata": {},
   "outputs": [],
   "source": [
    "y = checkout_target_df[\"Checkout\"]\n",
    "X = checkout_target_df.drop([\"Checkout\",\"BibNum\"],axis=1)\n",
    "\n",
    "#hold out portion of the data for final testing\n",
    "X, X_test, y, y_test = train_test_split(X, y, test_size=.2, random_state=20) #keep at 20 to be consistent\n",
    "\n",
    "#hold out 20% for validation\n",
    "X_train, X_val, y_train, y_val = train_test_split(X, y, test_size=.25, random_state=50) "
   ]
  },
  {
   "cell_type": "code",
   "execution_count": 10,
   "metadata": {},
   "outputs": [
    {
     "name": "stdout",
     "output_type": "stream",
     "text": [
      "16326 5442 5443\n"
     ]
    }
   ],
   "source": [
    "print(len(X_train),len(X_val),len(X_test))"
   ]
  },
  {
   "cell_type": "markdown",
   "metadata": {},
   "source": [
    "### KNN Classifier\n",
    "This first part will grid search for the best Neighbor value"
   ]
  },
  {
   "cell_type": "code",
   "execution_count": 11,
   "metadata": {},
   "outputs": [
    {
     "name": "stdout",
     "output_type": "stream",
     "text": [
      "5  neighbors. Accuracy:  0.7177508269018743\n",
      "5  neighbors. Precision:  0.7014817491868449\n",
      "5  neighbors. Recall:  0.7321765371557902\n",
      "5  neighbors. f1:  0.7165005537098559\n",
      "----------\n",
      "10  neighbors. Accuracy:  0.7381477398015436\n",
      "10  neighbors. Precision:  0.7432539682539683\n",
      "10  neighbors. Recall:  0.7065258393059223\n",
      "10  neighbors. f1:  0.724424676078128\n",
      "----------\n",
      "15  neighbors. Accuracy:  0.7454979786843072\n",
      "15  neighbors. Precision:  0.7334070796460177\n",
      "15  neighbors. Recall:  0.7502829121086383\n",
      "15  neighbors. f1:  0.7417490210702964\n",
      "----------\n",
      "20  neighbors. Accuracy:  0.7454979786843072\n",
      "20  neighbors. Precision:  0.7461119751166407\n",
      "20  neighbors. Recall:  0.7238777819690683\n",
      "20  neighbors. f1:  0.7348267279341375\n",
      "----------\n",
      "25  neighbors. Accuracy:  0.7456817346563763\n",
      "25  neighbors. Precision:  0.7362924281984334\n",
      "25  neighbors. Recall:  0.7446246699358733\n",
      "25  neighbors. f1:  0.7404351087771943\n",
      "----------\n",
      "30  neighbors. Accuracy:  0.7443954428518927\n",
      "30  neighbors. Precision:  0.745136186770428\n",
      "30  neighbors. Recall:  0.7223689173896642\n",
      "30  neighbors. f1:  0.7335759433058802\n",
      "----------\n"
     ]
    }
   ],
   "source": [
    "for i in range(5,31,5):\n",
    "    adjacents = i\n",
    "    knn = KNeighborsClassifier(n_neighbors=adjacents)\n",
    "    knn.fit(X_train, y_train)\n",
    "    y_pred = knn.predict(X_val)\n",
    "    print(adjacents, \" neighbors. Accuracy: \", metrics.accuracy_score(y_val, y_pred))\n",
    "    print(adjacents, \" neighbors. Precision: \", metrics.precision_score(y_val, y_pred))\n",
    "    print(adjacents, \" neighbors. Recall: \", metrics.recall_score(y_val, y_pred))\n",
    "    print(adjacents, \" neighbors. f1: \", metrics.f1_score(y_val, y_pred))  \n",
    "    print(\"----------\")"
   ]
  },
  {
   "cell_type": "code",
   "execution_count": 12,
   "metadata": {},
   "outputs": [],
   "source": [
    "# Let's go with N=15\n",
    "knn = KNeighborsClassifier(n_neighbors=15)\n",
    "knn.fit(X_train, y_train)\n",
    "y_pred = knn.predict(X_val)"
   ]
  },
  {
   "cell_type": "code",
   "execution_count": 14,
   "metadata": {},
   "outputs": [
    {
     "name": "stdout",
     "output_type": "stream",
     "text": [
      "Accuracy:  0.7454979786843072\n",
      "Precision:  0.7334070796460177\n",
      "Recall:  0.7502829121086383\n",
      "F1:  0.7417490210702964\n"
     ]
    }
   ],
   "source": [
    "print(\"Accuracy: \",metrics.accuracy_score(y_val, y_pred))\n",
    "print(\"Precision: \",metrics.precision_score(y_val, y_pred))\n",
    "print(\"Recall: \",metrics.recall_score(y_val, y_pred))\n",
    "print(\"F1: \",metrics.f1_score(y_val, y_pred))"
   ]
  },
  {
   "cell_type": "code",
   "execution_count": 15,
   "metadata": {},
   "outputs": [
    {
     "data": {
      "text/plain": [
       "array([[2068,  723],\n",
       "       [ 662, 1989]])"
      ]
     },
     "execution_count": 15,
     "metadata": {},
     "output_type": "execute_result"
    }
   ],
   "source": [
    "confusion_matrix(y_val, y_pred)"
   ]
  },
  {
   "cell_type": "markdown",
   "metadata": {},
   "source": [
    "### Logistic Regression"
   ]
  },
  {
   "cell_type": "code",
   "execution_count": 16,
   "metadata": {},
   "outputs": [],
   "source": [
    "from sklearn.preprocessing import StandardScaler\n",
    "from sklearn.linear_model import LogisticRegression\n",
    "from sklearn.metrics import recall_score\n",
    "from sklearn.metrics import precision_score\n",
    "from sklearn.metrics import f1_score"
   ]
  },
  {
   "cell_type": "code",
   "execution_count": 17,
   "metadata": {},
   "outputs": [
    {
     "name": "stderr",
     "output_type": "stream",
     "text": [
      "/anaconda3/lib/python3.6/site-packages/sklearn/preprocessing/data.py:617: DataConversionWarning: Data with input dtype int64, float64 were all converted to float64 by StandardScaler.\n",
      "  return self.partial_fit(X, y)\n",
      "/anaconda3/lib/python3.6/site-packages/sklearn/base.py:462: DataConversionWarning: Data with input dtype int64, float64 were all converted to float64 by StandardScaler.\n",
      "  return self.fit(X, **fit_params).transform(X)\n"
     ]
    }
   ],
   "source": [
    "std_scale = StandardScaler()\n",
    "X_train_scaled = std_scale.fit_transform(X_train)\n",
    "lr_model = LogisticRegression(C=10000)"
   ]
  },
  {
   "cell_type": "code",
   "execution_count": 18,
   "metadata": {},
   "outputs": [
    {
     "data": {
      "text/plain": [
       "LogisticRegression(C=10000, class_weight=None, dual=False, fit_intercept=True,\n",
       "          intercept_scaling=1, max_iter=100, multi_class='warn',\n",
       "          n_jobs=None, penalty='l2', random_state=None, solver='warn',\n",
       "          tol=0.0001, verbose=0, warm_start=False)"
      ]
     },
     "execution_count": 18,
     "metadata": {},
     "output_type": "execute_result"
    }
   ],
   "source": [
    "lr_model.fit(X_train_scaled,y_train)"
   ]
  },
  {
   "cell_type": "code",
   "execution_count": 19,
   "metadata": {},
   "outputs": [],
   "source": [
    "y_train_pred = lr_model.predict(X_train_scaled)"
   ]
  },
  {
   "cell_type": "code",
   "execution_count": 20,
   "metadata": {},
   "outputs": [
    {
     "name": "stdout",
     "output_type": "stream",
     "text": [
      "Accuracy:  0.7391890236432684\n",
      "Precision:  0.7384654928672407\n",
      "Recall:  0.7210440456769984\n",
      "F1:  0.7296507936507938\n"
     ]
    }
   ],
   "source": [
    "print(\"Accuracy: \",metrics.accuracy_score(y_train, y_train_pred))\n",
    "print(\"Precision: \",metrics.precision_score(y_train, y_train_pred))\n",
    "print(\"Recall: \",metrics.recall_score(y_train, y_train_pred))\n",
    "print(\"F1: \",metrics.f1_score(y_train, y_train_pred))"
   ]
  },
  {
   "cell_type": "code",
   "execution_count": 21,
   "metadata": {},
   "outputs": [
    {
     "name": "stderr",
     "output_type": "stream",
     "text": [
      "/anaconda3/lib/python3.6/site-packages/ipykernel_launcher.py:1: DataConversionWarning: Data with input dtype int64, float64 were all converted to float64 by StandardScaler.\n",
      "  \"\"\"Entry point for launching an IPython kernel.\n"
     ]
    }
   ],
   "source": [
    "X_val_scaled = std_scale.transform(X_val)\n",
    "y_val_pred = lr_model.predict(X_val_scaled)"
   ]
  },
  {
   "cell_type": "code",
   "execution_count": 22,
   "metadata": {},
   "outputs": [
    {
     "name": "stdout",
     "output_type": "stream",
     "text": [
      "Accuracy:  0.7442116868798236\n",
      "Precision:  0.7355031799476244\n",
      "Recall:  0.7416069407770652\n",
      "F1:  0.738542449286251\n"
     ]
    }
   ],
   "source": [
    "print(\"Accuracy: \",metrics.accuracy_score(y_val, y_val_pred))\n",
    "print(\"Precision: \",metrics.precision_score(y_val, y_val_pred))\n",
    "print(\"Recall: \",metrics.recall_score(y_val, y_val_pred))\n",
    "print(\"F1: \",metrics.f1_score(y_val, y_val_pred))"
   ]
  },
  {
   "cell_type": "code",
   "execution_count": 23,
   "metadata": {},
   "outputs": [
    {
     "data": {
      "text/plain": [
       "array([[2084,  707],\n",
       "       [ 685, 1966]])"
      ]
     },
     "execution_count": 23,
     "metadata": {},
     "output_type": "execute_result"
    }
   ],
   "source": [
    "confusion_matrix(y_val, y_val_pred)"
   ]
  },
  {
   "cell_type": "code",
   "execution_count": 24,
   "metadata": {},
   "outputs": [],
   "source": [
    "coefficients = lr_model.coef_[0] * -1\n",
    "features = np.array(X_train.columns)"
   ]
  },
  {
   "cell_type": "code",
   "execution_count": 25,
   "metadata": {},
   "outputs": [],
   "source": [
    "lr_model_dict = list(zip(features,coefficients))"
   ]
  },
  {
   "cell_type": "code",
   "execution_count": 26,
   "metadata": {},
   "outputs": [
    {
     "data": {
      "text/plain": [
       "<BarContainer object of 30 artists>"
      ]
     },
     "execution_count": 26,
     "metadata": {},
     "output_type": "execute_result"
    },
    {
     "data": {
      "image/png": "[encoded data removed]",
      "text/plain": [
       "<Figure size 432x288 with 1 Axes>"
      ]
     },
     "metadata": {},
     "output_type": "display_data"
    }
   ],
   "source": [
    "plt.bar(features,coefficients)"
   ]
  },
  {
   "cell_type": "code",
   "execution_count": 27,
   "metadata": {},
   "outputs": [
    {
     "data": {
      "text/html": [
       "<div>\n",
       "<style scoped>\n",
       "    .dataframe tbody tr th:only-of-type {\n",
       "        vertical-align: middle;\n",
       "    }\n",
       "\n",
       "    .dataframe tbody tr th {\n",
       "        vertical-align: top;\n",
       "    }\n",
       "\n",
       "    .dataframe thead th {\n",
       "        text-align: right;\n",
       "    }\n",
       "</style>\n",
       "<table border=\"1\" class=\"dataframe\">\n",
       "  <thead>\n",
       "    <tr style=\"text-align: right;\">\n",
       "      <th></th>\n",
       "      <th>0</th>\n",
       "      <th>1</th>\n",
       "    </tr>\n",
       "  </thead>\n",
       "  <tbody>\n",
       "    <tr>\n",
       "      <th>5</th>\n",
       "      <td>Nonfiction</td>\n",
       "      <td>0.9731</td>\n",
       "    </tr>\n",
       "    <tr>\n",
       "      <th>3</th>\n",
       "      <td>Fiction</td>\n",
       "      <td>0.8409</td>\n",
       "    </tr>\n",
       "    <tr>\n",
       "      <th>17</th>\n",
       "      <td>tot_ratings</td>\n",
       "      <td>0.8352</td>\n",
       "    </tr>\n",
       "    <tr>\n",
       "      <th>2</th>\n",
       "      <td>Year</td>\n",
       "      <td>0.6490</td>\n",
       "    </tr>\n",
       "    <tr>\n",
       "      <th>8</th>\n",
       "      <td>Picture</td>\n",
       "      <td>0.4672</td>\n",
       "    </tr>\n",
       "    <tr>\n",
       "      <th>16</th>\n",
       "      <td>avg_rating</td>\n",
       "      <td>0.4524</td>\n",
       "    </tr>\n",
       "    <tr>\n",
       "      <th>9</th>\n",
       "      <td>Children</td>\n",
       "      <td>0.4473</td>\n",
       "    </tr>\n",
       "    <tr>\n",
       "      <th>4</th>\n",
       "      <td>Language</td>\n",
       "      <td>0.3367</td>\n",
       "    </tr>\n",
       "    <tr>\n",
       "      <th>1</th>\n",
       "      <td>ISBN</td>\n",
       "      <td>0.2137</td>\n",
       "    </tr>\n",
       "    <tr>\n",
       "      <th>13</th>\n",
       "      <td>Comic</td>\n",
       "      <td>0.1866</td>\n",
       "    </tr>\n",
       "    <tr>\n",
       "      <th>20</th>\n",
       "      <td>cntry_code 1</td>\n",
       "      <td>0.1730</td>\n",
       "    </tr>\n",
       "    <tr>\n",
       "      <th>11</th>\n",
       "      <td>Mystery</td>\n",
       "      <td>0.1048</td>\n",
       "    </tr>\n",
       "    <tr>\n",
       "      <th>14</th>\n",
       "      <td>page</td>\n",
       "      <td>0.0758</td>\n",
       "    </tr>\n",
       "    <tr>\n",
       "      <th>23</th>\n",
       "      <td>cntry_code 4</td>\n",
       "      <td>0.0573</td>\n",
       "    </tr>\n",
       "    <tr>\n",
       "      <th>6</th>\n",
       "      <td>Biography</td>\n",
       "      <td>0.0366</td>\n",
       "    </tr>\n",
       "    <tr>\n",
       "      <th>22</th>\n",
       "      <td>cntry_code 3</td>\n",
       "      <td>0.0360</td>\n",
       "    </tr>\n",
       "    <tr>\n",
       "      <th>19</th>\n",
       "      <td>cntry_code 0</td>\n",
       "      <td>0.0302</td>\n",
       "    </tr>\n",
       "    <tr>\n",
       "      <th>21</th>\n",
       "      <td>cntry_code 2</td>\n",
       "      <td>0.0234</td>\n",
       "    </tr>\n",
       "    <tr>\n",
       "      <th>10</th>\n",
       "      <td>Teen</td>\n",
       "      <td>0.0118</td>\n",
       "    </tr>\n",
       "    <tr>\n",
       "      <th>18</th>\n",
       "      <td>tot_reviews</td>\n",
       "      <td>0.0056</td>\n",
       "    </tr>\n",
       "  </tbody>\n",
       "</table>\n",
       "</div>"
      ],
      "text/plain": [
       "               0      1\n",
       "5     Nonfiction 0.9731\n",
       "3        Fiction 0.8409\n",
       "17   tot_ratings 0.8352\n",
       "2           Year 0.6490\n",
       "8        Picture 0.4672\n",
       "16    avg_rating 0.4524\n",
       "9       Children 0.4473\n",
       "4       Language 0.3367\n",
       "1           ISBN 0.2137\n",
       "13         Comic 0.1866\n",
       "20  cntry_code 1 0.1730\n",
       "11       Mystery 0.1048\n",
       "14          page 0.0758\n",
       "23  cntry_code 4 0.0573\n",
       "6      Biography 0.0366\n",
       "22  cntry_code 3 0.0360\n",
       "19  cntry_code 0 0.0302\n",
       "21  cntry_code 2 0.0234\n",
       "10          Teen 0.0118\n",
       "18   tot_reviews 0.0056"
      ]
     },
     "execution_count": 27,
     "metadata": {},
     "output_type": "execute_result"
    }
   ],
   "source": [
    "pd.DataFrame(lr_model_dict).sort_values(by=1,ascending=False).head(20)"
   ]
  },
  {
   "cell_type": "code",
   "execution_count": 28,
   "metadata": {},
   "outputs": [
    {
     "name": "stderr",
     "output_type": "stream",
     "text": [
      "/anaconda3/lib/python3.6/site-packages/ipykernel_launcher.py:1: DataConversionWarning: Data with input dtype int64, float64 were all converted to float64 by StandardScaler.\n",
      "  \"\"\"Entry point for launching an IPython kernel.\n"
     ]
    },
    {
     "name": "stdout",
     "output_type": "stream",
     "text": [
      "Logistic Regression Model best F1 score 0.872 at prob decision threshold >= 0.790\n"
     ]
    },
    {
     "data": {
      "image/png": "[encoded data removed]",
      "text/plain": [
       "<Figure size 432x288 with 1 Axes>"
      ]
     },
     "metadata": {},
     "output_type": "display_data"
    }
   ],
   "source": [
    "X_val_scaled = std_scale.transform(X_val)\n",
    "\n",
    "thresh_ps = np.linspace(.50,.85,1000)\n",
    "model_val_probs = lr_model.predict_proba(X_val_scaled)[:,1]   # first column is the probability for 0 condition\n",
    "                                                              # second column is the probability for the 1 condition\n",
    "precision_scores = []\n",
    "for p in thresh_ps:\n",
    "    model_val_labels = model_val_probs >= p\n",
    "    precision_scores.append(precision_score(y_val,model_val_labels))\n",
    "    \n",
    "plt.plot(thresh_ps, precision_scores)\n",
    "plt.title('Precision Score vs. Positive Class Decision Probability Threshold')\n",
    "plt.xlabel('P threshold')\n",
    "plt.ylabel('Precision')\n",
    "\n",
    "best_precision_score = np.max(precision_scores) \n",
    "best_thresh_p = thresh_ps[np.argmax(precision_scores)]\n",
    "\n",
    "print('Logistic Regression Model best F1 score %.3f at prob decision threshold >= %.3f' \n",
    "      % (best_precision_score, best_thresh_p)) \n"
   ]
  },
  {
   "cell_type": "markdown",
   "metadata": {},
   "source": [
    "### Naive Bayes"
   ]
  },
  {
   "cell_type": "code",
   "execution_count": 32,
   "metadata": {},
   "outputs": [],
   "source": [
    "from sklearn import naive_bayes\n",
    "from sklearn.metrics import accuracy_score, classification_report"
   ]
  },
  {
   "cell_type": "code",
   "execution_count": 31,
   "metadata": {},
   "outputs": [
    {
     "data": {
      "text/plain": [
       "GaussianNB(priors=None, var_smoothing=1e-09)"
      ]
     },
     "execution_count": 31,
     "metadata": {},
     "output_type": "execute_result"
    }
   ],
   "source": [
    "model = naive_bayes.GaussianNB()\n",
    "model.fit(X_train,y_train)"
   ]
  },
  {
   "cell_type": "code",
   "execution_count": 32,
   "metadata": {},
   "outputs": [
    {
     "name": "stdout",
     "output_type": "stream",
     "text": [
      "Accuracy:  0.6433909102045816\n",
      "Recall:  0.8829213201154473\n",
      "Precision:  0.590020964360587\n",
      "f1:  0.7073489494319894\n"
     ]
    }
   ],
   "source": [
    "y_train_predict = model.predict(X_train)\n",
    "print(\"Accuracy: \", accuracy_score(y_train, y_train_predict ))\n",
    "print(\"Recall: \",recall_score(y_train,y_train_predict))         # Recall\n",
    "print(\"Precision: \",precision_score(y_train,y_train_predict))   # Precision\n",
    "print(\"f1: \",f1_score(y_train,y_train_predict))  "
   ]
  },
  {
   "cell_type": "code",
   "execution_count": 33,
   "metadata": {},
   "outputs": [],
   "source": [
    "y_val_predict = model.predict(X_val)"
   ]
  },
  {
   "cell_type": "code",
   "execution_count": 34,
   "metadata": {},
   "outputs": [
    {
     "name": "stdout",
     "output_type": "stream",
     "text": [
      "Accuracy:  0.6418596104373392\n",
      "Recall:  0.8857035081101471\n",
      "Precision:  0.5878818227341012\n",
      "f1:  0.7066967644845747\n"
     ]
    }
   ],
   "source": [
    "print(\"Accuracy: \", accuracy_score(y_val, y_val_predict ))\n",
    "print(\"Recall: \",recall_score(y_val,y_val_predict))         # Recall\n",
    "print(\"Precision: \",precision_score(y_val,y_val_predict))   # Precision\n",
    "print(\"f1: \",f1_score(y_val,y_val_predict))  "
   ]
  },
  {
   "cell_type": "code",
   "execution_count": 36,
   "metadata": {},
   "outputs": [
    {
     "data": {
      "text/plain": [
       "array([[3468, 4889],\n",
       "       [ 933, 7036]])"
      ]
     },
     "execution_count": 36,
     "metadata": {},
     "output_type": "execute_result"
    }
   ],
   "source": [
    "confusion_matrix(y_train, model.predict(X_train) )"
   ]
  },
  {
   "cell_type": "markdown",
   "metadata": {},
   "source": [
    "### Random Forest"
   ]
  },
  {
   "cell_type": "code",
   "execution_count": 29,
   "metadata": {},
   "outputs": [],
   "source": [
    "from sklearn.ensemble import RandomForestClassifier, GradientBoostingClassifier"
   ]
  },
  {
   "cell_type": "code",
   "execution_count": 30,
   "metadata": {},
   "outputs": [
    {
     "data": {
      "text/plain": [
       "RandomForestClassifier(bootstrap=True, class_weight=None, criterion='gini',\n",
       "            max_depth=6, max_features=7, max_leaf_nodes=None,\n",
       "            min_impurity_decrease=0.0, min_impurity_split=None,\n",
       "            min_samples_leaf=4, min_samples_split=2,\n",
       "            min_weight_fraction_leaf=0.0, n_estimators=1000, n_jobs=4,\n",
       "            oob_score=False, random_state=None, verbose=0,\n",
       "            warm_start=False)"
      ]
     },
     "execution_count": 30,
     "metadata": {},
     "output_type": "execute_result"
    }
   ],
   "source": [
    "# Try with different max features\n",
    "rfmodel = RandomForestClassifier(n_estimators = 1000, max_features = 7,\n",
    "                                min_samples_leaf = 4, n_jobs=4, max_depth=6)\n",
    "rfmodel.fit(X_train,y_train)"
   ]
  },
  {
   "cell_type": "code",
   "execution_count": 33,
   "metadata": {},
   "outputs": [
    {
     "name": "stdout",
     "output_type": "stream",
     "text": [
      "Train Accuracy:  0.7546245252970721\n",
      "Train Recall:  0.6972016564186222\n",
      "Train Precision:  0.7771716323961393\n",
      "Train f1:  0.7350178595052257\n"
     ]
    }
   ],
   "source": [
    "y_train_predict = rfmodel.predict(X_train)\n",
    "print(\"Train Accuracy: \", accuracy_score(y_train, y_train_predict ))\n",
    "print(\"Train Recall: \",recall_score(y_train, y_train_predict))         # Recall\n",
    "print(\"Train Precision: \",precision_score(y_train, y_train_predict))   # Precision\n",
    "print(\"Train f1: \",f1_score(y_train, y_train_predict)) "
   ]
  },
  {
   "cell_type": "code",
   "execution_count": 34,
   "metadata": {},
   "outputs": [
    {
     "name": "stdout",
     "output_type": "stream",
     "text": [
      "Validation Accuracy:  0.7532157295112091\n",
      "Validation Recall:  0.7091663523198793\n",
      "Validation Precision:  0.766721044045677\n",
      "Validation f1:  0.7368214775622184\n"
     ]
    }
   ],
   "source": [
    "y_val_predict = rfmodel.predict(X_val)\n",
    "print(\"Validation Accuracy: \", accuracy_score(y_val, y_val_predict ))\n",
    "print(\"Validation Recall: \",recall_score(y_val, y_val_predict))         # Recall\n",
    "print(\"Validation Precision: \",precision_score(y_val, y_val_predict))   # Precision\n",
    "print(\"Validation f1: \",f1_score(y_val, y_val_predict))  "
   ]
  },
  {
   "cell_type": "code",
   "execution_count": 41,
   "metadata": {},
   "outputs": [
    {
     "data": {
      "text/plain": [
       "array([[2198,  593],\n",
       "       [ 737, 1914]])"
      ]
     },
     "execution_count": 41,
     "metadata": {},
     "output_type": "execute_result"
    }
   ],
   "source": [
    "confusion_matrix(y_val, y_val_predict)"
   ]
  },
  {
   "cell_type": "markdown",
   "metadata": {},
   "source": [
    "### GradientBoostingClassifier"
   ]
  },
  {
   "cell_type": "code",
   "execution_count": 35,
   "metadata": {},
   "outputs": [
    {
     "data": {
      "text/plain": [
       "GradientBoostingClassifier(criterion='friedman_mse', init=None,\n",
       "              learning_rate=0.005, loss='deviance', max_depth=3,\n",
       "              max_features=3, max_leaf_nodes=None,\n",
       "              min_impurity_decrease=0.0, min_impurity_split=None,\n",
       "              min_samples_leaf=10, min_samples_split=2,\n",
       "              min_weight_fraction_leaf=0.0, n_estimators=1000,\n",
       "              n_iter_no_change=None, presort='auto', random_state=None,\n",
       "              subsample=1.0, tol=0.0001, validation_fraction=0.1,\n",
       "              verbose=0, warm_start=False)"
      ]
     },
     "execution_count": 35,
     "metadata": {},
     "output_type": "execute_result"
    }
   ],
   "source": [
    "# Try with different max features\n",
    "gbmodel = GradientBoostingClassifier(n_estimators = 1000, max_features = 3,\n",
    "                                min_samples_leaf = 10,learning_rate=0.005)\n",
    "gbmodel.fit(X_train,y_train)"
   ]
  },
  {
   "cell_type": "code",
   "execution_count": 36,
   "metadata": {},
   "outputs": [
    {
     "name": "stdout",
     "output_type": "stream",
     "text": [
      "Train Accuracy:  0.7507043978929315\n",
      "Train Recall:  0.7367298280838248\n",
      "Train Precision:  0.7485655998979982\n",
      "Train f1:  0.7426005565393372\n"
     ]
    }
   ],
   "source": [
    "y_train_predict = gbmodel.predict(X_train)\n",
    "print(\"Train Accuracy: \", accuracy_score(y_train, y_train_predict ))\n",
    "print(\"Train Recall: \",recall_score(y_train, y_train_predict))         # Recall\n",
    "print(\"Train Precision: \",precision_score(y_train, y_train_predict))   # Precision\n",
    "print(\"Train f1: \",f1_score(y_train, y_train_predict)) "
   ]
  },
  {
   "cell_type": "code",
   "execution_count": 37,
   "metadata": {},
   "outputs": [
    {
     "name": "stdout",
     "output_type": "stream",
     "text": [
      "Validation Accuracy:  0.7576258728408674\n",
      "Validation Recall:  0.7597133157299132\n",
      "Validation Precision:  0.7470326409495549\n",
      "Validation f1:  0.7533196184776509\n"
     ]
    }
   ],
   "source": [
    "y_val_predict = gbmodel.predict(X_val)\n",
    "print(\"Validation Accuracy: \", accuracy_score(y_val, y_val_predict ))\n",
    "print(\"Validation Recall: \",recall_score(y_val, y_val_predict))         # Recall\n",
    "print(\"Validation Precision: \",precision_score(y_val, y_val_predict))   # Precision\n",
    "print(\"Validation f1: \",f1_score(y_val, y_val_predict)) "
   ]
  },
  {
   "cell_type": "code",
   "execution_count": 137,
   "metadata": {},
   "outputs": [
    {
     "data": {
      "text/plain": [
       "array([[2172,  619],\n",
       "       [ 410, 2241]])"
      ]
     },
     "execution_count": 137,
     "metadata": {},
     "output_type": "execute_result"
    }
   ],
   "source": [
    "confusion_matrix(y_val, y_val_predict)"
   ]
  },
  {
   "cell_type": "markdown",
   "metadata": {},
   "source": [
    "### XGBoost Classifier"
   ]
  },
  {
   "cell_type": "code",
   "execution_count": 38,
   "metadata": {},
   "outputs": [],
   "source": [
    "import xgboost as xgb"
   ]
  },
  {
   "cell_type": "code",
   "execution_count": 39,
   "metadata": {},
   "outputs": [],
   "source": [
    "gbm = xgb.XGBClassifier( \n",
    "                        n_estimators=40000,\n",
    "                        max_depth=4,\n",
    "                        objective='binary:logistic', #new objective\n",
    "                        learning_rate=.15, \n",
    "                        subsample=.8,\n",
    "                        min_child_weight=3,\n",
    "                        colsample_bytree=.8\n",
    "                       )\n",
    "\n",
    "eval_set=[(X_train,y_train),(X_val,y_val)]\n",
    "fit_model = gbm.fit( \n",
    "                    X_train, y_train, \n",
    "                    eval_set=eval_set,\n",
    "                    eval_metric='error', #new evaluation metric: classification error (could also use AUC, e.g.)\n",
    "                    early_stopping_rounds=50,\n",
    "                    verbose=False\n",
    "                   )\n",
    "\n",
    "# accuracy_score(y_test, gbm.predict(X_test, ntree_limit=gbm.best_ntree_limit)) "
   ]
  },
  {
   "cell_type": "code",
   "execution_count": 40,
   "metadata": {},
   "outputs": [
    {
     "name": "stdout",
     "output_type": "stream",
     "text": [
      "Train Accuracy:  0.7633835599656988\n",
      "Train Recall:  0.7555527669720166\n",
      "Train Precision:  0.7586945564516129\n",
      "Train f1:  0.7571204023891859\n"
     ]
    }
   ],
   "source": [
    "y_train_predict = fit_model.predict(X_train)\n",
    "print(\"Train Accuracy: \", accuracy_score(y_train, y_train_predict ))\n",
    "print(\"Train Recall: \",recall_score(y_train, y_train_predict))         # Recall\n",
    "print(\"Train Precision: \",precision_score(y_train, y_train_predict))   # Precision\n",
    "print(\"Train f1: \",f1_score(y_train, y_train_predict)) "
   ]
  },
  {
   "cell_type": "code",
   "execution_count": 41,
   "metadata": {},
   "outputs": [
    {
     "name": "stdout",
     "output_type": "stream",
     "text": [
      "Validation Accuracy:  0.7699375229694965\n",
      "Validation Recall:  0.7744247453791022\n",
      "Validation Precision:  0.7584041374214998\n",
      "Validation f1:  0.7663307204180665\n"
     ]
    }
   ],
   "source": [
    "y_val_predict = fit_model.predict(X_val)\n",
    "print(\"Validation Accuracy: \", accuracy_score(y_val, y_val_predict ))\n",
    "print(\"Validation Recall: \",recall_score(y_val, y_val_predict))         # Recall\n",
    "print(\"Validation Precision: \",precision_score(y_val, y_val_predict))   # Precision\n",
    "print(\"Validation f1: \",f1_score(y_val, y_val_predict)) "
   ]
  },
  {
   "cell_type": "code",
   "execution_count": 49,
   "metadata": {},
   "outputs": [
    {
     "data": {
      "text/plain": [
       "array([[2140,  651],\n",
       "       [ 603, 2048]])"
      ]
     },
     "execution_count": 49,
     "metadata": {},
     "output_type": "execute_result"
    }
   ],
   "source": [
    "confusion_matrix(y_val, y_val_predict)"
   ]
  },
  {
   "cell_type": "code",
   "execution_count": 62,
   "metadata": {},
   "outputs": [
    {
     "data": {
      "text/plain": [
       "<matplotlib.axes._subplots.AxesSubplot at 0x135cb7fd0>"
      ]
     },
     "execution_count": 62,
     "metadata": {},
     "output_type": "execute_result"
    },
    {
     "data": {
      "image/png": "[encoded data removed]",
      "text/plain": [
       "<Figure size 432x288 with 1 Axes>"
      ]
     },
     "metadata": {},
     "output_type": "display_data"
    }
   ],
   "source": [
    "xgb.plot_importance(gbm, importance_type='gain')"
   ]
  },
  {
   "cell_type": "markdown",
   "metadata": {},
   "source": [
    "### Neural Network"
   ]
  },
  {
   "cell_type": "code",
   "execution_count": 42,
   "metadata": {},
   "outputs": [
    {
     "name": "stderr",
     "output_type": "stream",
     "text": [
      "Using TensorFlow backend.\n"
     ]
    },
    {
     "name": "stdout",
     "output_type": "stream",
     "text": [
      "Epoch 1/100\n",
      "16326/16326 [==============================] - 1s 33us/step - loss: 0.6942 - acc: 0.5040\n",
      "Epoch 2/100\n",
      "16326/16326 [==============================] - 0s 5us/step - loss: 0.6929 - acc: 0.5119\n",
      "Epoch 3/100\n",
      "16326/16326 [==============================] - 0s 5us/step - loss: 0.6931 - acc: 0.5034\n",
      "Epoch 4/100\n",
      "16326/16326 [==============================] - 0s 5us/step - loss: 0.6929 - acc: 0.5119\n",
      "Epoch 5/100\n",
      "16326/16326 [==============================] - 0s 9us/step - loss: 0.6929 - acc: 0.5119\n",
      "Epoch 6/100\n",
      "16326/16326 [==============================] - 0s 5us/step - loss: 0.6927 - acc: 0.5153\n",
      "Epoch 7/100\n",
      "16326/16326 [==============================] - 0s 5us/step - loss: 0.6916 - acc: 0.5281\n",
      "Epoch 8/100\n",
      "16326/16326 [==============================] - 0s 5us/step - loss: 0.6797 - acc: 0.6069\n",
      "Epoch 9/100\n",
      "16326/16326 [==============================] - 0s 6us/step - loss: 0.6215 - acc: 0.6893\n",
      "Epoch 10/100\n",
      "16326/16326 [==============================] - 0s 5us/step - loss: 0.6024 - acc: 0.6896\n",
      "Epoch 11/100\n",
      "16326/16326 [==============================] - 0s 5us/step - loss: 0.5934 - acc: 0.6945\n",
      "Epoch 12/100\n",
      "16326/16326 [==============================] - 0s 5us/step - loss: 0.5890 - acc: 0.6975\n",
      "Epoch 13/100\n",
      "16326/16326 [==============================] - 0s 5us/step - loss: 0.5908 - acc: 0.6959\n",
      "Epoch 14/100\n",
      "16326/16326 [==============================] - 0s 5us/step - loss: 0.5826 - acc: 0.6989\n",
      "Epoch 15/100\n",
      "16326/16326 [==============================] - 0s 5us/step - loss: 0.5782 - acc: 0.7035\n",
      "Epoch 16/100\n",
      "16326/16326 [==============================] - 0s 5us/step - loss: 0.5788 - acc: 0.7036\n",
      "Epoch 17/100\n",
      "16326/16326 [==============================] - 0s 5us/step - loss: 0.5732 - acc: 0.7066\n",
      "Epoch 18/100\n",
      "16326/16326 [==============================] - 0s 6us/step - loss: 0.5740 - acc: 0.7046\n",
      "Epoch 19/100\n",
      "16326/16326 [==============================] - 0s 5us/step - loss: 0.5720 - acc: 0.7078\n",
      "Epoch 20/100\n",
      "16326/16326 [==============================] - 0s 5us/step - loss: 0.5686 - acc: 0.7102\n",
      "Epoch 21/100\n",
      "16326/16326 [==============================] - 0s 5us/step - loss: 0.5701 - acc: 0.7093\n",
      "Epoch 22/100\n",
      "16326/16326 [==============================] - 0s 5us/step - loss: 0.5676 - acc: 0.7095\n",
      "Epoch 23/100\n",
      "16326/16326 [==============================] - 0s 5us/step - loss: 0.5684 - acc: 0.7133\n",
      "Epoch 24/100\n",
      "16326/16326 [==============================] - 0s 5us/step - loss: 0.5694 - acc: 0.7088\n",
      "Epoch 25/100\n",
      "16326/16326 [==============================] - 0s 5us/step - loss: 0.5671 - acc: 0.7102\n",
      "Epoch 26/100\n",
      "16326/16326 [==============================] - 0s 5us/step - loss: 0.5631 - acc: 0.7145\n",
      "Epoch 27/100\n",
      "16326/16326 [==============================] - 0s 5us/step - loss: 0.5632 - acc: 0.7140\n",
      "Epoch 28/100\n",
      "16326/16326 [==============================] - 0s 5us/step - loss: 0.5632 - acc: 0.7130\n",
      "Epoch 29/100\n",
      "16326/16326 [==============================] - 0s 5us/step - loss: 0.5632 - acc: 0.7129\n",
      "Epoch 30/100\n",
      "16326/16326 [==============================] - 0s 5us/step - loss: 0.5599 - acc: 0.7133\n",
      "Epoch 31/100\n",
      "16326/16326 [==============================] - 0s 5us/step - loss: 0.5644 - acc: 0.7121\n",
      "Epoch 32/100\n",
      "16326/16326 [==============================] - 0s 5us/step - loss: 0.5623 - acc: 0.7138\n",
      "Epoch 33/100\n",
      "16326/16326 [==============================] - 0s 5us/step - loss: 0.5607 - acc: 0.7150\n",
      "Epoch 34/100\n",
      "16326/16326 [==============================] - 0s 5us/step - loss: 0.5620 - acc: 0.7124\n",
      "Epoch 35/100\n",
      "16326/16326 [==============================] - 0s 5us/step - loss: 0.5643 - acc: 0.7118\n",
      "Epoch 36/100\n",
      "16326/16326 [==============================] - 0s 5us/step - loss: 0.5633 - acc: 0.7137\n",
      "Epoch 37/100\n",
      "16326/16326 [==============================] - 0s 5us/step - loss: 0.5598 - acc: 0.7149\n",
      "Epoch 38/100\n",
      "16326/16326 [==============================] - 0s 5us/step - loss: 0.5575 - acc: 0.7170\n",
      "Epoch 39/100\n",
      "16326/16326 [==============================] - 0s 5us/step - loss: 0.5573 - acc: 0.7153\n",
      "Epoch 40/100\n",
      "16326/16326 [==============================] - 0s 5us/step - loss: 0.5576 - acc: 0.7166\n",
      "Epoch 41/100\n",
      "16326/16326 [==============================] - 0s 5us/step - loss: 0.5549 - acc: 0.7174\n",
      "Epoch 42/100\n",
      "16326/16326 [==============================] - 0s 5us/step - loss: 0.5606 - acc: 0.7120\n",
      "Epoch 43/100\n",
      "16326/16326 [==============================] - 0s 5us/step - loss: 0.5597 - acc: 0.7166\n",
      "Epoch 44/100\n",
      "16326/16326 [==============================] - 0s 5us/step - loss: 0.5570 - acc: 0.7172\n",
      "Epoch 45/100\n",
      "16326/16326 [==============================] - 0s 5us/step - loss: 0.5576 - acc: 0.7137\n",
      "Epoch 46/100\n",
      "16326/16326 [==============================] - 0s 5us/step - loss: 0.5574 - acc: 0.7153\n",
      "Epoch 47/100\n",
      "16326/16326 [==============================] - 0s 5us/step - loss: 0.5536 - acc: 0.7162\n",
      "Epoch 48/100\n",
      "16326/16326 [==============================] - 0s 5us/step - loss: 0.5554 - acc: 0.7180\n",
      "Epoch 49/100\n",
      "16326/16326 [==============================] - 0s 5us/step - loss: 0.5585 - acc: 0.7153\n",
      "Epoch 50/100\n",
      "16326/16326 [==============================] - 0s 5us/step - loss: 0.5525 - acc: 0.7171\n",
      "Epoch 51/100\n",
      "16326/16326 [==============================] - 0s 5us/step - loss: 0.5591 - acc: 0.7173\n",
      "Epoch 52/100\n",
      "16326/16326 [==============================] - 0s 5us/step - loss: 0.5549 - acc: 0.7178\n",
      "Epoch 53/100\n",
      "16326/16326 [==============================] - 0s 5us/step - loss: 0.5533 - acc: 0.7170\n",
      "Epoch 54/100\n",
      "16326/16326 [==============================] - 0s 5us/step - loss: 0.5567 - acc: 0.7151\n",
      "Epoch 55/100\n",
      "16326/16326 [==============================] - 0s 5us/step - loss: 0.5546 - acc: 0.7155\n",
      "Epoch 56/100\n",
      "16326/16326 [==============================] - 0s 5us/step - loss: 0.5531 - acc: 0.7182\n",
      "Epoch 57/100\n",
      "16326/16326 [==============================] - 0s 5us/step - loss: 0.5540 - acc: 0.7141\n",
      "Epoch 58/100\n",
      "16326/16326 [==============================] - 0s 5us/step - loss: 0.5544 - acc: 0.7193\n",
      "Epoch 59/100\n",
      "16326/16326 [==============================] - 0s 5us/step - loss: 0.5558 - acc: 0.7155\n",
      "Epoch 60/100\n",
      "16326/16326 [==============================] - 0s 5us/step - loss: 0.5531 - acc: 0.7181\n",
      "Epoch 61/100\n",
      "16326/16326 [==============================] - 0s 6us/step - loss: 0.5501 - acc: 0.7193\n",
      "Epoch 62/100\n",
      "16326/16326 [==============================] - 0s 5us/step - loss: 0.5522 - acc: 0.7152\n",
      "Epoch 63/100\n",
      "16326/16326 [==============================] - 0s 5us/step - loss: 0.5517 - acc: 0.7169\n",
      "Epoch 64/100\n",
      "16326/16326 [==============================] - 0s 5us/step - loss: 0.5499 - acc: 0.7187\n",
      "Epoch 65/100\n",
      "16326/16326 [==============================] - 0s 5us/step - loss: 0.5511 - acc: 0.7200\n",
      "Epoch 66/100\n",
      "16326/16326 [==============================] - 0s 5us/step - loss: 0.5511 - acc: 0.7209\n",
      "Epoch 67/100\n",
      "16326/16326 [==============================] - 0s 5us/step - loss: 0.5498 - acc: 0.7193\n",
      "Epoch 68/100\n",
      "16326/16326 [==============================] - 0s 5us/step - loss: 0.5513 - acc: 0.7190\n",
      "Epoch 69/100\n",
      "16326/16326 [==============================] - 0s 5us/step - loss: 0.5641 - acc: 0.7083\n",
      "Epoch 70/100\n",
      "16326/16326 [==============================] - 0s 5us/step - loss: 0.5511 - acc: 0.7214\n",
      "Epoch 71/100\n",
      "16326/16326 [==============================] - 0s 6us/step - loss: 0.5500 - acc: 0.7201\n",
      "Epoch 72/100\n",
      "16326/16326 [==============================] - 0s 5us/step - loss: 0.5495 - acc: 0.7184\n",
      "Epoch 73/100\n",
      "16326/16326 [==============================] - 0s 5us/step - loss: 0.5477 - acc: 0.7221\n",
      "Epoch 74/100\n",
      "16326/16326 [==============================] - 0s 5us/step - loss: 0.5491 - acc: 0.7201\n",
      "Epoch 75/100\n",
      "16326/16326 [==============================] - 0s 5us/step - loss: 0.5484 - acc: 0.7185\n",
      "Epoch 76/100\n",
      "16326/16326 [==============================] - 0s 5us/step - loss: 0.5482 - acc: 0.7179\n",
      "Epoch 77/100\n",
      "16326/16326 [==============================] - 0s 5us/step - loss: 0.5563 - acc: 0.7179\n",
      "Epoch 78/100\n",
      "16326/16326 [==============================] - 0s 5us/step - loss: 0.5523 - acc: 0.7174\n",
      "Epoch 79/100\n",
      "16326/16326 [==============================] - 0s 5us/step - loss: 0.5513 - acc: 0.7209\n",
      "Epoch 80/100\n",
      "16326/16326 [==============================] - 0s 5us/step - loss: 0.5490 - acc: 0.7179\n",
      "Epoch 81/100\n",
      "16326/16326 [==============================] - 0s 5us/step - loss: 0.5479 - acc: 0.7198\n",
      "Epoch 82/100\n",
      "16326/16326 [==============================] - 0s 6us/step - loss: 0.5497 - acc: 0.7193\n",
      "Epoch 83/100\n",
      "16326/16326 [==============================] - 0s 6us/step - loss: 0.5465 - acc: 0.7209\n",
      "Epoch 84/100\n",
      "16326/16326 [==============================] - 0s 6us/step - loss: 0.5479 - acc: 0.7209\n",
      "Epoch 85/100\n",
      "16326/16326 [==============================] - 0s 6us/step - loss: 0.5482 - acc: 0.7211\n",
      "Epoch 86/100\n",
      "16326/16326 [==============================] - 0s 6us/step - loss: 0.5485 - acc: 0.7174\n",
      "Epoch 87/100\n",
      "16326/16326 [==============================] - 0s 6us/step - loss: 0.5476 - acc: 0.7198\n",
      "Epoch 88/100\n",
      "16326/16326 [==============================] - 0s 6us/step - loss: 0.5494 - acc: 0.7215\n",
      "Epoch 89/100\n",
      "16326/16326 [==============================] - 0s 6us/step - loss: 0.5476 - acc: 0.7200\n",
      "Epoch 90/100\n",
      "16326/16326 [==============================] - 0s 5us/step - loss: 0.5513 - acc: 0.7225\n",
      "Epoch 91/100\n",
      "16326/16326 [==============================] - 0s 5us/step - loss: 0.5476 - acc: 0.7214\n",
      "Epoch 92/100\n",
      "16326/16326 [==============================] - 0s 5us/step - loss: 0.5512 - acc: 0.7176\n",
      "Epoch 93/100\n",
      "16326/16326 [==============================] - 0s 5us/step - loss: 0.5485 - acc: 0.7225\n",
      "Epoch 94/100\n",
      "16326/16326 [==============================] - 0s 5us/step - loss: 0.5467 - acc: 0.7225\n",
      "Epoch 95/100\n",
      "16326/16326 [==============================] - 0s 5us/step - loss: 0.5470 - acc: 0.7217\n",
      "Epoch 96/100\n",
      "16326/16326 [==============================] - 0s 5us/step - loss: 0.5467 - acc: 0.7219\n",
      "Epoch 97/100\n",
      "16326/16326 [==============================] - 0s 5us/step - loss: 0.5506 - acc: 0.7211\n",
      "Epoch 98/100\n",
      "16326/16326 [==============================] - 0s 5us/step - loss: 0.5556 - acc: 0.7182\n",
      "Epoch 99/100\n",
      "16326/16326 [==============================] - 0s 5us/step - loss: 0.5461 - acc: 0.7223\n",
      "Epoch 100/100\n",
      "16326/16326 [==============================] - 0s 5us/step - loss: 0.5464 - acc: 0.7208\n"
     ]
    },
    {
     "data": {
      "text/plain": [
       "<keras.callbacks.History at 0x130581b00>"
      ]
     },
     "execution_count": 42,
     "metadata": {},
     "output_type": "execute_result"
    }
   ],
   "source": [
    "from keras.models import Model, Sequential\n",
    "from keras.layers import Dense, Activation, Dropout\n",
    "\n",
    "'''\n",
    " In this network structure, note that we follow a very common heuristic of \"funneling\"\n",
    " to lower dimensional representations over time with multiple layers. Tuning the exact\n",
    " choice of number of nodes and layers is quite challenging and there aren't generically\n",
    " correct choices, but this heuristic often works pretty well.\n",
    "'''\n",
    "\n",
    "NN = Sequential()\n",
    "\n",
    "NN.add(Dense(30, input_dim = 30)) # need feature input dim (30 features) for first hidden layer\n",
    "NN.add(Activation('sigmoid'))\n",
    "\n",
    "NN.add(Dense(62))\n",
    "NN.add(Activation('sigmoid'))\n",
    "\n",
    "#NN.add(Dropout(0.01))\n",
    "\n",
    "NN.add(Dense(124))\n",
    "NN.add(Activation('sigmoid'))\n",
    "\n",
    "NN.add(Dense(62))\n",
    "NN.add(Activation('sigmoid'))\n",
    "\n",
    "#NN.add(Dropout(0.01))\n",
    "\n",
    "NN.add(Dense(32))\n",
    "NN.add(Activation('sigmoid'))\n",
    "\n",
    "NN.add(Dense(16))\n",
    "NN.add(Activation('sigmoid'))\n",
    "\n",
    "NN.add(Dense(1))\n",
    "NN.add(Activation('sigmoid'))\n",
    "\n",
    "NN.compile(loss='binary_crossentropy', optimizer='adam', metrics=[\"accuracy\"])   #adam  #RMSProp\n",
    "NN.fit(X_train, y_train, epochs=100, batch_size=500, verbose=1) # track progress as we fit"
   ]
  },
  {
   "cell_type": "code",
   "execution_count": 43,
   "metadata": {},
   "outputs": [
    {
     "name": "stdout",
     "output_type": "stream",
     "text": [
      "Train Accuracy:  0.7252235697660174\n",
      "Train F1:  0.7104311902917634\n",
      "-------------\n",
      "Validation Accuracy:  0.735023888276369\n",
      "Validation F1:  0.7257512362114873\n"
     ]
    }
   ],
   "source": [
    "from sklearn.metrics import accuracy_score\n",
    "\n",
    "y_train_pred = NN.predict_classes(X_train)\n",
    "print(\"Train Accuracy: \", accuracy_score(y_train, y_train_pred))\n",
    "print(\"Train F1: \", f1_score(y_train, y_train_pred))\n",
    "print(\"-------------\")\n",
    "y_val_pred = NN.predict_classes(X_val)\n",
    "print(\"Validation Accuracy: \", accuracy_score(y_val, y_val_pred))\n",
    "print(\"Validation F1: \", f1_score(y_val, y_val_pred))"
   ]
  },
  {
   "cell_type": "code",
   "execution_count": null,
   "metadata": {},
   "outputs": [],
   "source": []
  }
 ],
 "metadata": {
  "kernelspec": {
   "display_name": "Python 3",
   "language": "python",
   "name": "python3"
  },
  "language_info": {
   "codemirror_mode": {
    "name": "ipython",
    "version": 3
   },
   "file_extension": ".py",
   "mimetype": "text/x-python",
   "name": "python",
   "nbconvert_exporter": "python",
   "pygments_lexer": "ipython3",
   "version": "3.6.5"
  }
 },
 "nbformat": 4,
 "nbformat_minor": 2
}
